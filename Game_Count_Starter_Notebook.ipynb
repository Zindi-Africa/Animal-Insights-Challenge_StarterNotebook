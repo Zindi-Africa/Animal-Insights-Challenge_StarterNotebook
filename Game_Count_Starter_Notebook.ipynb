{
 "cells": [
  {
   "cell_type": "markdown",
   "metadata": {
    "colab_type": "text",
    "id": "h3NnAiUJBx1T"
   },
   "source": [
    "# Starter Notebook\n",
    "\n",
    "This notebook accompanies the Zindi Animal Insights Challenge. We load the data, look at a few trends, bring in some of the additional data provided and give a few hints about what makes a good submission. \n",
    "\n",
    "Hopefully this is enough to get your creative juices flowing!"
   ]
  },
  {
   "cell_type": "markdown",
   "metadata": {
    "colab_type": "text",
    "id": "jcwLKuQXCLkA"
   },
   "source": [
    "# Loading the Data"
   ]
  },
  {
   "cell_type": "markdown",
   "metadata": {
    "colab_type": "text",
    "id": "IX4DwGh_MMGr"
   },
   "source": [
    "### Make sure the files are accessible. Here I copy them from my google drive and import some useful libraries."
   ]
  },
  {
   "cell_type": "code",
   "execution_count": 0,
   "metadata": {
    "colab": {},
    "colab_type": "code",
    "id": "7yysxbPuCT8A"
   },
   "outputs": [],
   "source": [
    "import pandas as pd\n",
    "import numpy as np\n",
    "from matplotlib import pyplot as plt"
   ]
  },
  {
   "cell_type": "markdown",
   "metadata": {
    "colab_type": "text",
    "id": "ufe3SE81CVZB"
   },
   "source": [
    "### Reading in the game counts"
   ]
  },
  {
   "cell_type": "code",
   "execution_count": 0,
   "metadata": {
    "colab": {
     "base_uri": "https://localhost:8080/",
     "height": 204
    },
    "colab_type": "code",
    "id": "_aS9upuTCG0l",
    "outputId": "3f6f30a8-c9c2-4e30-a9c5-fcd38f3523f3"
   },
   "outputs": [
    {
     "data": {
      "text/html": [
       "<div>\n",
       "<style scoped>\n",
       "    .dataframe tbody tr th:only-of-type {\n",
       "        vertical-align: middle;\n",
       "    }\n",
       "\n",
       "    .dataframe tbody tr th {\n",
       "        vertical-align: top;\n",
       "    }\n",
       "\n",
       "    .dataframe thead th {\n",
       "        text-align: right;\n",
       "    }\n",
       "</style>\n",
       "<table border=\"1\" class=\"dataframe\">\n",
       "  <thead>\n",
       "    <tr style=\"text-align: right;\">\n",
       "      <th></th>\n",
       "      <th>Year</th>\n",
       "      <th>Day</th>\n",
       "      <th>Time</th>\n",
       "      <th>Elephant</th>\n",
       "      <th>Buffalo</th>\n",
       "      <th>Eland</th>\n",
       "      <th>Zebra</th>\n",
       "      <th>Waterbuck</th>\n",
       "      <th>Kudu</th>\n",
       "      <th>Impala</th>\n",
       "      <th>Nyala</th>\n",
       "      <th>Bushbuck</th>\n",
       "      <th>Wild dog</th>\n",
       "      <th>Lion</th>\n",
       "      <th>Leopard</th>\n",
       "      <th>Hyena</th>\n",
       "      <th>Jackal</th>\n",
       "      <th>Warthog</th>\n",
       "      <th>Baboon</th>\n",
       "    </tr>\n",
       "  </thead>\n",
       "  <tbody>\n",
       "    <tr>\n",
       "      <th>0</th>\n",
       "      <td>1995</td>\n",
       "      <td>Saturday</td>\n",
       "      <td>am</td>\n",
       "      <td>155</td>\n",
       "      <td>381</td>\n",
       "      <td>179</td>\n",
       "      <td>460</td>\n",
       "      <td>234</td>\n",
       "      <td>66</td>\n",
       "      <td>3005</td>\n",
       "      <td>0</td>\n",
       "      <td>3</td>\n",
       "      <td>10</td>\n",
       "      <td>4</td>\n",
       "      <td>0</td>\n",
       "      <td>30.0</td>\n",
       "      <td>12</td>\n",
       "      <td>154</td>\n",
       "      <td>831.0</td>\n",
       "    </tr>\n",
       "    <tr>\n",
       "      <th>1</th>\n",
       "      <td>1995</td>\n",
       "      <td>Saturday</td>\n",
       "      <td>pm</td>\n",
       "      <td>211</td>\n",
       "      <td>634</td>\n",
       "      <td>209</td>\n",
       "      <td>416</td>\n",
       "      <td>248</td>\n",
       "      <td>105</td>\n",
       "      <td>2345</td>\n",
       "      <td>0</td>\n",
       "      <td>2</td>\n",
       "      <td>0</td>\n",
       "      <td>4</td>\n",
       "      <td>0</td>\n",
       "      <td>5.0</td>\n",
       "      <td>4</td>\n",
       "      <td>190</td>\n",
       "      <td>455.0</td>\n",
       "    </tr>\n",
       "    <tr>\n",
       "      <th>2</th>\n",
       "      <td>1995</td>\n",
       "      <td>Sunday</td>\n",
       "      <td>am</td>\n",
       "      <td>159</td>\n",
       "      <td>465</td>\n",
       "      <td>136</td>\n",
       "      <td>426</td>\n",
       "      <td>238</td>\n",
       "      <td>62</td>\n",
       "      <td>2376</td>\n",
       "      <td>0</td>\n",
       "      <td>3</td>\n",
       "      <td>30</td>\n",
       "      <td>3</td>\n",
       "      <td>0</td>\n",
       "      <td>14.0</td>\n",
       "      <td>6</td>\n",
       "      <td>112</td>\n",
       "      <td>500.0</td>\n",
       "    </tr>\n",
       "    <tr>\n",
       "      <th>3</th>\n",
       "      <td>1995</td>\n",
       "      <td>Sunday</td>\n",
       "      <td>pm</td>\n",
       "      <td>173</td>\n",
       "      <td>304</td>\n",
       "      <td>171</td>\n",
       "      <td>581</td>\n",
       "      <td>242</td>\n",
       "      <td>140</td>\n",
       "      <td>2131</td>\n",
       "      <td>0</td>\n",
       "      <td>2</td>\n",
       "      <td>0</td>\n",
       "      <td>7</td>\n",
       "      <td>0</td>\n",
       "      <td>3.0</td>\n",
       "      <td>2</td>\n",
       "      <td>138</td>\n",
       "      <td>397.0</td>\n",
       "    </tr>\n",
       "    <tr>\n",
       "      <th>4</th>\n",
       "      <td>1996</td>\n",
       "      <td>Saturday</td>\n",
       "      <td>am</td>\n",
       "      <td>210</td>\n",
       "      <td>376</td>\n",
       "      <td>173</td>\n",
       "      <td>273</td>\n",
       "      <td>350</td>\n",
       "      <td>54</td>\n",
       "      <td>4099</td>\n",
       "      <td>0</td>\n",
       "      <td>0</td>\n",
       "      <td>21</td>\n",
       "      <td>1</td>\n",
       "      <td>0</td>\n",
       "      <td>2.0</td>\n",
       "      <td>0</td>\n",
       "      <td>87</td>\n",
       "      <td>NaN</td>\n",
       "    </tr>\n",
       "  </tbody>\n",
       "</table>\n",
       "</div>"
      ],
      "text/plain": [
       "   Year       Day Time  Elephant  ...  Hyena  Jackal  Warthog  Baboon\n",
       "0  1995  Saturday   am       155  ...   30.0      12      154   831.0\n",
       "1  1995  Saturday   pm       211  ...    5.0       4      190   455.0\n",
       "2  1995    Sunday   am       159  ...   14.0       6      112   500.0\n",
       "3  1995    Sunday   pm       173  ...    3.0       2      138   397.0\n",
       "4  1996  Saturday   am       210  ...    2.0       0       87     NaN\n",
       "\n",
       "[5 rows x 19 columns]"
      ]
     },
     "execution_count": 3,
     "metadata": {
      "tags": []
     },
     "output_type": "execute_result"
    }
   ],
   "source": [
    "df = pd.read_csv('game_counts.csv')\n",
    "df.head()"
   ]
  },
  {
   "cell_type": "markdown",
   "metadata": {
    "colab_type": "text",
    "id": "IFVqP4NhCaFK"
   },
   "source": [
    "### Looking at a particular species"
   ]
  },
  {
   "cell_type": "code",
   "execution_count": 0,
   "metadata": {
    "colab": {
     "base_uri": "https://localhost:8080/",
     "height": 442
    },
    "colab_type": "code",
    "id": "A4pNfzNhCKlc",
    "outputId": "06f57e4d-db5f-4df3-80ee-c79d6d0d5e9e"
   },
   "outputs": [
    {
     "data": {
      "image/png": "[encoded data removed]",
      "text/plain": [
       "<Figure size 1080x504 with 1 Axes>"
      ]
     },
     "metadata": {
      "tags": []
     },
     "output_type": "display_data"
    }
   ],
   "source": [
    "def plot(animal):\n",
    "  \"\"\" Look at the yearly trend, showing morning observations in blue, \n",
    "  afternoon observations in red and an overall trend line. \"\"\"\n",
    "\n",
    "  # Trend\n",
    "  ax = df.groupby('Year').mean().reset_index().plot(kind='line', y=animal, x='Year', label=animal+' (grouped)')\n",
    "\n",
    "  df.loc[df.Time=='am'].plot(y=animal, x='Year', \n",
    "                                    label=animal+' (am)', \n",
    "                                    figsize=(15, 7), \n",
    "                                    ax=ax,\n",
    "                                    kind='scatter')\n",
    "\n",
    "  df.loc[df.Time=='pm'].plot(y=animal, x='Year', \n",
    "                               label=animal+' (pm)',\n",
    "                               kind='scatter', \n",
    "                               ax=ax, \n",
    "                               c='red')\n",
    "    \n",
    "plot('Elephant')"
   ]
  },
  {
   "cell_type": "markdown",
   "metadata": {
    "colab_type": "text",
    "id": "nsxVbZ6rDoZu"
   },
   "source": [
    "It seems elephants are seen more in the afternoon. Does this hold true for other species?"
   ]
  },
  {
   "cell_type": "code",
   "execution_count": 0,
   "metadata": {
    "colab": {},
    "colab_type": "code",
    "id": "XEhpBjIjCrh_"
   },
   "outputs": [],
   "source": [
    "# Try plotting 'Impala' and compare."
   ]
  },
  {
   "cell_type": "code",
   "execution_count": 0,
   "metadata": {
    "colab": {},
    "colab_type": "code",
    "id": "QrTYGMDnJbXb"
   },
   "outputs": [],
   "source": [
    "### If you want to explore this further, here's a way to quickly look at morning vs evening for all species\n",
    "# grouped = df.groupby('Time').mean()[df.columns[3:]].T # Mean counts morning and evening\n",
    "# grouped.plot.bar(color=list('rbg')+['0.75'], rot=0, figsize=(18,8)) # Compare counts - this generates the plot\n",
    "# (grouped['am']/grouped['pm']).sort_values() # Just look at ratios"
   ]
  },
  {
   "cell_type": "markdown",
   "metadata": {
    "colab_type": "text",
    "id": "XsEWyt7_KGW0"
   },
   "source": [
    "### Bringing in some additional data"
   ]
  },
  {
   "cell_type": "code",
   "execution_count": 0,
   "metadata": {
    "colab": {
     "base_uri": "https://localhost:8080/",
     "height": 309
    },
    "colab_type": "code",
    "id": "lo1xfSB6ICjL",
    "outputId": "60090e3e-e236-4268-cfe9-b8aa7ee61056"
   },
   "outputs": [
    {
     "data": {
      "text/html": [
       "<div>\n",
       "<style scoped>\n",
       "    .dataframe tbody tr th:only-of-type {\n",
       "        vertical-align: middle;\n",
       "    }\n",
       "\n",
       "    .dataframe tbody tr th {\n",
       "        vertical-align: top;\n",
       "    }\n",
       "\n",
       "    .dataframe thead th {\n",
       "        text-align: right;\n",
       "    }\n",
       "</style>\n",
       "<table border=\"1\" class=\"dataframe\">\n",
       "  <thead>\n",
       "    <tr style=\"text-align: right;\">\n",
       "      <th></th>\n",
       "      <th>date</th>\n",
       "      <th>aet</th>\n",
       "      <th>def</th>\n",
       "      <th>pdsi</th>\n",
       "      <th>pet</th>\n",
       "      <th>pr</th>\n",
       "      <th>ro</th>\n",
       "      <th>soil</th>\n",
       "      <th>srad</th>\n",
       "      <th>swe</th>\n",
       "      <th>tmmn</th>\n",
       "      <th>tmmx</th>\n",
       "      <th>vap</th>\n",
       "      <th>vpd</th>\n",
       "      <th>vs</th>\n",
       "      <th>NDVI</th>\n",
       "      <th>EVI</th>\n",
       "      <th>water</th>\n",
       "    </tr>\n",
       "  </thead>\n",
       "  <tbody>\n",
       "    <tr>\n",
       "      <th>0</th>\n",
       "      <td>1994-01-01</td>\n",
       "      <td>1271.115655</td>\n",
       "      <td>0.000000</td>\n",
       "      <td>-176.444517</td>\n",
       "      <td>1271.115655</td>\n",
       "      <td>225.103465</td>\n",
       "      <td>11.018715</td>\n",
       "      <td>1146.696161</td>\n",
       "      <td>1967.839371</td>\n",
       "      <td>0</td>\n",
       "      <td>218.973337</td>\n",
       "      <td>313.538669</td>\n",
       "      <td>2543.985543</td>\n",
       "      <td>107.698692</td>\n",
       "      <td>179.439579</td>\n",
       "      <td>0.0</td>\n",
       "      <td>0.0</td>\n",
       "      <td>0.000000</td>\n",
       "    </tr>\n",
       "    <tr>\n",
       "      <th>1</th>\n",
       "      <td>1994-02-01</td>\n",
       "      <td>1179.904839</td>\n",
       "      <td>8.187955</td>\n",
       "      <td>-219.803671</td>\n",
       "      <td>1188.027883</td>\n",
       "      <td>124.614565</td>\n",
       "      <td>6.019286</td>\n",
       "      <td>1150.920719</td>\n",
       "      <td>2091.790276</td>\n",
       "      <td>0</td>\n",
       "      <td>211.425720</td>\n",
       "      <td>314.195116</td>\n",
       "      <td>2556.945691</td>\n",
       "      <td>101.277126</td>\n",
       "      <td>200.117931</td>\n",
       "      <td>0.0</td>\n",
       "      <td>0.0</td>\n",
       "      <td>0.620240</td>\n",
       "    </tr>\n",
       "    <tr>\n",
       "      <th>2</th>\n",
       "      <td>1994-03-01</td>\n",
       "      <td>543.708830</td>\n",
       "      <td>1072.130230</td>\n",
       "      <td>-328.451039</td>\n",
       "      <td>1615.981008</td>\n",
       "      <td>20.136859</td>\n",
       "      <td>1.000000</td>\n",
       "      <td>798.663319</td>\n",
       "      <td>2699.379822</td>\n",
       "      <td>0</td>\n",
       "      <td>200.084897</td>\n",
       "      <td>341.478933</td>\n",
       "      <td>2524.916770</td>\n",
       "      <td>134.850740</td>\n",
       "      <td>179.715429</td>\n",
       "      <td>0.0</td>\n",
       "      <td>0.0</td>\n",
       "      <td>0.000000</td>\n",
       "    </tr>\n",
       "    <tr>\n",
       "      <th>3</th>\n",
       "      <td>1994-04-01</td>\n",
       "      <td>371.896460</td>\n",
       "      <td>1089.503726</td>\n",
       "      <td>-396.650850</td>\n",
       "      <td>1461.404089</td>\n",
       "      <td>20.160835</td>\n",
       "      <td>1.000000</td>\n",
       "      <td>619.774164</td>\n",
       "      <td>2372.632383</td>\n",
       "      <td>0</td>\n",
       "      <td>184.954262</td>\n",
       "      <td>335.683922</td>\n",
       "      <td>2128.735675</td>\n",
       "      <td>155.116642</td>\n",
       "      <td>233.469610</td>\n",
       "      <td>0.0</td>\n",
       "      <td>0.0</td>\n",
       "      <td>1.125518</td>\n",
       "    </tr>\n",
       "    <tr>\n",
       "      <th>4</th>\n",
       "      <td>1994-05-01</td>\n",
       "      <td>110.845571</td>\n",
       "      <td>1145.726506</td>\n",
       "      <td>-446.846716</td>\n",
       "      <td>1256.321931</td>\n",
       "      <td>0.000000</td>\n",
       "      <td>0.000000</td>\n",
       "      <td>509.156497</td>\n",
       "      <td>2164.113713</td>\n",
       "      <td>0</td>\n",
       "      <td>149.225519</td>\n",
       "      <td>317.370164</td>\n",
       "      <td>1703.777281</td>\n",
       "      <td>150.488028</td>\n",
       "      <td>192.711932</td>\n",
       "      <td>0.0</td>\n",
       "      <td>0.0</td>\n",
       "      <td>0.000000</td>\n",
       "    </tr>\n",
       "  </tbody>\n",
       "</table>\n",
       "</div>"
      ],
      "text/plain": [
       "        date          aet          def  ...  NDVI  EVI     water\n",
       "0 1994-01-01  1271.115655     0.000000  ...   0.0  0.0  0.000000\n",
       "1 1994-02-01  1179.904839     8.187955  ...   0.0  0.0  0.620240\n",
       "2 1994-03-01   543.708830  1072.130230  ...   0.0  0.0  0.000000\n",
       "3 1994-04-01   371.896460  1089.503726  ...   0.0  0.0  1.125518\n",
       "4 1994-05-01   110.845571  1145.726506  ...   0.0  0.0  0.000000\n",
       "\n",
       "[5 rows x 18 columns]"
      ]
     },
     "execution_count": 7,
     "metadata": {
      "tags": []
     },
     "output_type": "execute_result"
    }
   ],
   "source": [
    "# Load the floodplain-specific data\n",
    "roi_df = pd.read_csv('ROI_Additional_Data.csv', parse_dates=['date'])\n",
    "roi_df.head()"
   ]
  },
  {
   "cell_type": "code",
   "execution_count": 0,
   "metadata": {
    "colab": {
     "base_uri": "https://localhost:8080/",
     "height": 351
    },
    "colab_type": "code",
    "id": "ieQCZfRyKQfp",
    "outputId": "a7c7113e-6bf8-458f-fd45-9a3f49b490e7"
   },
   "outputs": [
    {
     "data": {
      "text/plain": [
       "<matplotlib.axes._subplots.AxesSubplot at 0x7fafb8909d30>"
      ]
     },
     "execution_count": 8,
     "metadata": {
      "tags": []
     },
     "output_type": "execute_result"
    },
    {
     "data": {
      "image/png": "[encoded data removed]",
      "text/plain": [
       "<Figure size 1080x360 with 1 Axes>"
      ]
     },
     "metadata": {
      "tags": []
     },
     "output_type": "display_data"
    }
   ],
   "source": [
    "# Plot max temperature over time\n",
    "roi_df.plot(x='date', y='tmmn', figsize=(15, 5))"
   ]
  },
  {
   "cell_type": "code",
   "execution_count": 0,
   "metadata": {
    "colab": {
     "base_uri": "https://localhost:8080/",
     "height": 204
    },
    "colab_type": "code",
    "id": "kGNtV2bXKdf-",
    "outputId": "5f24a528-02e7-433d-a11f-db4a1fa6a45d"
   },
   "outputs": [
    {
     "data": {
      "text/html": [
       "<div>\n",
       "<style scoped>\n",
       "    .dataframe tbody tr th:only-of-type {\n",
       "        vertical-align: middle;\n",
       "    }\n",
       "\n",
       "    .dataframe tbody tr th {\n",
       "        vertical-align: top;\n",
       "    }\n",
       "\n",
       "    .dataframe thead th {\n",
       "        text-align: right;\n",
       "    }\n",
       "</style>\n",
       "<table border=\"1\" class=\"dataframe\">\n",
       "  <thead>\n",
       "    <tr style=\"text-align: right;\">\n",
       "      <th></th>\n",
       "      <th>Year</th>\n",
       "      <th>Day</th>\n",
       "      <th>Time</th>\n",
       "      <th>Elephant</th>\n",
       "      <th>Buffalo</th>\n",
       "      <th>Eland</th>\n",
       "      <th>Zebra</th>\n",
       "      <th>Waterbuck</th>\n",
       "      <th>Kudu</th>\n",
       "      <th>Impala</th>\n",
       "      <th>Nyala</th>\n",
       "      <th>Bushbuck</th>\n",
       "      <th>Wild dog</th>\n",
       "      <th>Lion</th>\n",
       "      <th>Leopard</th>\n",
       "      <th>Hyena</th>\n",
       "      <th>Jackal</th>\n",
       "      <th>Warthog</th>\n",
       "      <th>Baboon</th>\n",
       "      <th>pr</th>\n",
       "    </tr>\n",
       "  </thead>\n",
       "  <tbody>\n",
       "    <tr>\n",
       "      <th>0</th>\n",
       "      <td>1995</td>\n",
       "      <td>Saturday</td>\n",
       "      <td>am</td>\n",
       "      <td>155</td>\n",
       "      <td>381</td>\n",
       "      <td>179</td>\n",
       "      <td>460</td>\n",
       "      <td>234</td>\n",
       "      <td>66</td>\n",
       "      <td>3005</td>\n",
       "      <td>0</td>\n",
       "      <td>3</td>\n",
       "      <td>10</td>\n",
       "      <td>4</td>\n",
       "      <td>0</td>\n",
       "      <td>30.0</td>\n",
       "      <td>12</td>\n",
       "      <td>154</td>\n",
       "      <td>831.0</td>\n",
       "      <td>455.288945</td>\n",
       "    </tr>\n",
       "    <tr>\n",
       "      <th>1</th>\n",
       "      <td>1995</td>\n",
       "      <td>Saturday</td>\n",
       "      <td>pm</td>\n",
       "      <td>211</td>\n",
       "      <td>634</td>\n",
       "      <td>209</td>\n",
       "      <td>416</td>\n",
       "      <td>248</td>\n",
       "      <td>105</td>\n",
       "      <td>2345</td>\n",
       "      <td>0</td>\n",
       "      <td>2</td>\n",
       "      <td>0</td>\n",
       "      <td>4</td>\n",
       "      <td>0</td>\n",
       "      <td>5.0</td>\n",
       "      <td>4</td>\n",
       "      <td>190</td>\n",
       "      <td>455.0</td>\n",
       "      <td>455.288945</td>\n",
       "    </tr>\n",
       "    <tr>\n",
       "      <th>2</th>\n",
       "      <td>1995</td>\n",
       "      <td>Sunday</td>\n",
       "      <td>am</td>\n",
       "      <td>159</td>\n",
       "      <td>465</td>\n",
       "      <td>136</td>\n",
       "      <td>426</td>\n",
       "      <td>238</td>\n",
       "      <td>62</td>\n",
       "      <td>2376</td>\n",
       "      <td>0</td>\n",
       "      <td>3</td>\n",
       "      <td>30</td>\n",
       "      <td>3</td>\n",
       "      <td>0</td>\n",
       "      <td>14.0</td>\n",
       "      <td>6</td>\n",
       "      <td>112</td>\n",
       "      <td>500.0</td>\n",
       "      <td>455.288945</td>\n",
       "    </tr>\n",
       "    <tr>\n",
       "      <th>3</th>\n",
       "      <td>1995</td>\n",
       "      <td>Sunday</td>\n",
       "      <td>pm</td>\n",
       "      <td>173</td>\n",
       "      <td>304</td>\n",
       "      <td>171</td>\n",
       "      <td>581</td>\n",
       "      <td>242</td>\n",
       "      <td>140</td>\n",
       "      <td>2131</td>\n",
       "      <td>0</td>\n",
       "      <td>2</td>\n",
       "      <td>0</td>\n",
       "      <td>7</td>\n",
       "      <td>0</td>\n",
       "      <td>3.0</td>\n",
       "      <td>2</td>\n",
       "      <td>138</td>\n",
       "      <td>397.0</td>\n",
       "      <td>455.288945</td>\n",
       "    </tr>\n",
       "    <tr>\n",
       "      <th>4</th>\n",
       "      <td>1996</td>\n",
       "      <td>Saturday</td>\n",
       "      <td>am</td>\n",
       "      <td>210</td>\n",
       "      <td>376</td>\n",
       "      <td>173</td>\n",
       "      <td>273</td>\n",
       "      <td>350</td>\n",
       "      <td>54</td>\n",
       "      <td>4099</td>\n",
       "      <td>0</td>\n",
       "      <td>0</td>\n",
       "      <td>21</td>\n",
       "      <td>1</td>\n",
       "      <td>0</td>\n",
       "      <td>2.0</td>\n",
       "      <td>0</td>\n",
       "      <td>87</td>\n",
       "      <td>NaN</td>\n",
       "      <td>791.062272</td>\n",
       "    </tr>\n",
       "  </tbody>\n",
       "</table>\n",
       "</div>"
      ],
      "text/plain": [
       "   Year       Day Time  Elephant  ...  Jackal  Warthog  Baboon          pr\n",
       "0  1995  Saturday   am       155  ...      12      154   831.0  455.288945\n",
       "1  1995  Saturday   pm       211  ...       4      190   455.0  455.288945\n",
       "2  1995    Sunday   am       159  ...       6      112   500.0  455.288945\n",
       "3  1995    Sunday   pm       173  ...       2      138   397.0  455.288945\n",
       "4  1996  Saturday   am       210  ...       0       87     NaN  791.062272\n",
       "\n",
       "[5 rows x 20 columns]"
      ]
     },
     "execution_count": 9,
     "metadata": {
      "tags": []
     },
     "output_type": "execute_result"
    }
   ],
   "source": [
    "# Add a precipitation column to our main dataframe\n",
    "roi_df['Year'] = roi_df['date'].dt.year\n",
    "df = pd.merge(df, roi_df.groupby('Year').sum()['pr'].reset_index(), on='Year', how='left')\n",
    "df.head()"
   ]
  },
  {
   "cell_type": "code",
   "execution_count": 0,
   "metadata": {
    "colab": {
     "base_uri": "https://localhost:8080/",
     "height": 296
    },
    "colab_type": "code",
    "id": "vBi98dWwLDdR",
    "outputId": "479da133-9802-4ed6-9b21-01252cbc04c8"
   },
   "outputs": [
    {
     "data": {
      "text/plain": [
       "<matplotlib.axes._subplots.AxesSubplot at 0x7fafb89d3cf8>"
      ]
     },
     "execution_count": 10,
     "metadata": {
      "tags": []
     },
     "output_type": "execute_result"
    },
    {
     "data": {
      "image/png": "[encoded data removed]",
      "text/plain": [
       "<Figure size 432x288 with 1 Axes>"
      ]
     },
     "metadata": {
      "tags": []
     },
     "output_type": "display_data"
    }
   ],
   "source": [
    "# And plot the relationship between annual rainfall and Impala sightings:\n",
    "df.plot(x='pr', y='Impala', kind='scatter')"
   ]
  },
  {
   "cell_type": "markdown",
   "metadata": {
    "colab_type": "text",
    "id": "mThjS7wsL-bX"
   },
   "source": [
    "# Turning this into a submission\n",
    "\n",
    "The above scatter plot is a start, but how would we incorporate it in a submission? Here are some things it needs:\n",
    "- Better axis labels \n",
    "- A title\n",
    "- Is this trying to show a trend/relationship? Then it needs a trend line!\n",
    "- Perhaps an explanation of the relationship (correlation ceoefficient, is it linear, any outliers...)\n",
    "- What's our hypothesis? Showing the trend is nice, but what does it mean? For example: \"In years with more rainfall, animals can find water and food all over the park, reducing the density in the floodplain where the counts occur. So we expect to see fewer grazing animals like Impala in years with hgh precipitation. The data supports this theory, with a strong negative correlation between precipitation and impala sightings....\" \n",
    "- Why did we choose yearly precipitation? Why Impala? Some justification for choices made will take an entry to the next level."
   ]
  },
  {
   "cell_type": "code",
   "execution_count": 0,
   "metadata": {
    "colab": {},
    "colab_type": "code",
    "id": "baggxvxMLmC_"
   },
   "outputs": [],
   "source": []
  }
 ],
 "metadata": {
  "colab": {
   "collapsed_sections": [],
   "name": "Game Count Starter Notebook.ipynb",
   "provenance": []
  },
  "kernelspec": {
   "display_name": "Python 3",
   "language": "python",
   "name": "python3"
  },
  "language_info": {
   "codemirror_mode": {
    "name": "ipython",
    "version": 3
   },
   "file_extension": ".py",
   "mimetype": "text/x-python",
   "name": "python",
   "nbconvert_exporter": "python",
   "pygments_lexer": "ipython3",
   "version": "3.7.3"
  }
 },
 "nbformat": 4,
 "nbformat_minor": 1
}
